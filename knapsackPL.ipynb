{
 "cells": [
  {
   "cell_type": "markdown",
   "metadata": {},
   "source": [
    "## Ejercicio 2: Knapsack - Programación Lineal"
   ]
  },
  {
   "cell_type": "code",
   "execution_count": 1,
   "metadata": {},
   "outputs": [
    {
     "data": {
      "text/plain": [
       "20"
      ]
     },
     "execution_count": 1,
     "metadata": {},
     "output_type": "execute_result"
    }
   ],
   "source": [
    "using JuMP, GLPK\n",
    "\n",
    "# Datos del problema\n",
    "valores = [10, 12, 8, 5, 8, 5, 6, 7, 6, 12, 8, 8, 10, 9, 8, 3, 7, 8, 5, 6]\n",
    "pesos = [6, 7, 7, 3, 5, 2, 4, 5, 3, 9, 8, 7, 8, 6, 5, 2, 3, 5, 4, 6]\n",
    "k = 50  # Capacidad máxima de la mochila\n",
    "n = length(valores)  # Número de ítems"
   ]
  },
  {
   "cell_type": "code",
   "execution_count": 2,
   "metadata": {},
   "outputs": [
    {
     "data": {
      "text/latex": [
       "$$ 6 x_{1} + 7 x_{2} + 7 x_{3} + 3 x_{4} + 5 x_{5} + 2 x_{6} + 4 x_{7} + 5 x_{8} + 3 x_{9} + 9 x_{10} + 8 x_{11} + 7 x_{12} + 8 x_{13} + 6 x_{14} + 5 x_{15} + 2 x_{16} + 3 x_{17} + 5 x_{18} + 4 x_{19} + 6 x_{20} \\leq 50 $$"
      ],
      "text/plain": [
       "6 x[1] + 7 x[2] + 7 x[3] + 3 x[4] + 5 x[5] + 2 x[6] + 4 x[7] + 5 x[8] + 3 x[9] + 9 x[10] + 8 x[11] + 7 x[12] + 8 x[13] + 6 x[14] + 5 x[15] + 2 x[16] + 3 x[17] + 5 x[18] + 4 x[19] + 6 x[20] <= 50"
      ]
     },
     "execution_count": 2,
     "metadata": {},
     "output_type": "execute_result"
    }
   ],
   "source": [
    "# Crear el modelo\n",
    "modelo = Model(GLPK.Optimizer)\n",
    "\n",
    "# Definir variables binarias x[i]\n",
    "@variable(modelo, x[1:n], Bin)\n",
    "\n",
    "# Función objetivo: maximizar el valor total\n",
    "@objective(modelo, Max, sum(valores[i] * x[i] for i in 1:n))\n",
    "\n",
    "# Restricción: la suma de pesos no debe exceder la capacidad máxima\n",
    "@constraint(modelo, sum(pesos[i] * x[i] for i in 1:n) <= k)"
   ]
  },
  {
   "cell_type": "code",
   "execution_count": 3,
   "metadata": {},
   "outputs": [
    {
     "name": "stdout",
     "output_type": "stream",
     "text": [
      "Valor máximo:85.0\n",
      "Ítems seleccionados:\n",
      "Item 1: Valor 10, Peso 6\n",
      "Item 2: Valor 12, Peso 7\n",
      "Item 4: Valor 5, Peso 3\n",
      "Item 5: Valor 8, Peso 5\n",
      "Item 6: Valor 5, Peso 2\n",
      "Item 7: Valor 6, Peso 4\n",
      "Item 8: Valor 7, Peso 5\n",
      "Item 9: Valor 6, Peso 3\n",
      "Item 15: Valor 8, Peso 5\n",
      "Item 16: Valor 3, Peso 2\n",
      "Item 17: Valor 7, Peso 3\n",
      "Item 18: Valor 8, Peso 5\n"
     ]
    }
   ],
   "source": [
    "# Resolver el modelo\n",
    "optimize!(modelo)\n",
    "\n",
    "# Mostrar resultados\n",
    "println(\"Valor máximo: \", objective_value(modelo))\n",
    "println(\"\\nÍtems seleccionados:\")\n",
    "for i in 1:n\n",
    "    if value(x[i]) > 0.5  # Si la variable binaria es 1 (seleccionada)\n",
    "        println(\"Item $i: Valor $(valores[i]), Peso $(pesos[i])\")\n",
    "    end\n",
    "end"
   ]
  }
 ],
 "metadata": {
  "kernelspec": {
   "display_name": "Julia 1.10.5",
   "language": "julia",
   "name": "julia-1.10"
  },
  "language_info": {
   "file_extension": ".jl",
   "mimetype": "application/julia",
   "name": "julia",
   "version": "1.10.5"
  }
 },
 "nbformat": 4,
 "nbformat_minor": 2
}
